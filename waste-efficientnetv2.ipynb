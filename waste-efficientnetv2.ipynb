{
 "cells": [
  {
   "cell_type": "code",
   "execution_count": 2,
   "metadata": {
    "execution": {
     "iopub.execute_input": "2024-10-16T16:15:52.706809Z",
     "iopub.status.busy": "2024-10-16T16:15:52.706394Z",
     "iopub.status.idle": "2024-10-16T16:16:05.687182Z",
     "shell.execute_reply": "2024-10-16T16:16:05.685972Z",
     "shell.execute_reply.started": "2024-10-16T16:15:52.706768Z"
    },
    "trusted": true
   },
   "outputs": [
    {
     "name": "stdout",
     "output_type": "stream",
     "text": [
      "Requirement already satisfied: iterative-stratification in /opt/conda/lib/python3.10/site-packages (0.1.9)\n",
      "Requirement already satisfied: albumentations in /opt/conda/lib/python3.10/site-packages (1.4.17)\n",
      "Requirement already satisfied: timm in /opt/conda/lib/python3.10/site-packages (1.0.9)\n",
      "Requirement already satisfied: numpy in /opt/conda/lib/python3.10/site-packages (from iterative-stratification) (1.26.4)\n",
      "Requirement already satisfied: scipy in /opt/conda/lib/python3.10/site-packages (from iterative-stratification) (1.14.1)\n",
      "Requirement already satisfied: scikit-learn in /opt/conda/lib/python3.10/site-packages (from iterative-stratification) (1.2.2)\n",
      "Requirement already satisfied: scikit-image>=0.21.0 in /opt/conda/lib/python3.10/site-packages (from albumentations) (0.23.2)\n",
      "Requirement already satisfied: PyYAML in /opt/conda/lib/python3.10/site-packages (from albumentations) (6.0.2)\n",
      "Requirement already satisfied: pydantic>=2.7.0 in /opt/conda/lib/python3.10/site-packages (from albumentations) (2.9.2)\n",
      "Requirement already satisfied: albucore==0.0.17 in /opt/conda/lib/python3.10/site-packages (from albumentations) (0.0.17)\n",
      "Requirement already satisfied: eval-type-backport in /opt/conda/lib/python3.10/site-packages (from albumentations) (0.2.0)\n",
      "Requirement already satisfied: opencv-python-headless>=4.9.0.80 in /opt/conda/lib/python3.10/site-packages (from albumentations) (4.10.0.84)\n",
      "Requirement already satisfied: torch in /opt/conda/lib/python3.10/site-packages (from timm) (2.4.0)\n",
      "Requirement already satisfied: torchvision in /opt/conda/lib/python3.10/site-packages (from timm) (0.19.0)\n",
      "Requirement already satisfied: huggingface_hub in /opt/conda/lib/python3.10/site-packages (from timm) (0.25.1)\n",
      "Requirement already satisfied: safetensors in /opt/conda/lib/python3.10/site-packages (from timm) (0.4.5)\n",
      "Requirement already satisfied: annotated-types>=0.6.0 in /opt/conda/lib/python3.10/site-packages (from pydantic>=2.7.0->albumentations) (0.7.0)\n",
      "Requirement already satisfied: pydantic-core==2.23.4 in /opt/conda/lib/python3.10/site-packages (from pydantic>=2.7.0->albumentations) (2.23.4)\n",
      "Requirement already satisfied: typing-extensions>=4.6.1 in /opt/conda/lib/python3.10/site-packages (from pydantic>=2.7.0->albumentations) (4.12.2)\n",
      "Requirement already satisfied: networkx>=2.8 in /opt/conda/lib/python3.10/site-packages (from scikit-image>=0.21.0->albumentations) (3.3)\n",
      "Requirement already satisfied: pillow>=9.1 in /opt/conda/lib/python3.10/site-packages (from scikit-image>=0.21.0->albumentations) (10.3.0)\n",
      "Requirement already satisfied: imageio>=2.33 in /opt/conda/lib/python3.10/site-packages (from scikit-image>=0.21.0->albumentations) (2.34.1)\n",
      "Requirement already satisfied: tifffile>=2022.8.12 in /opt/conda/lib/python3.10/site-packages (from scikit-image>=0.21.0->albumentations) (2024.5.22)\n",
      "Requirement already satisfied: packaging>=21 in /opt/conda/lib/python3.10/site-packages (from scikit-image>=0.21.0->albumentations) (21.3)\n",
      "Requirement already satisfied: lazy-loader>=0.4 in /opt/conda/lib/python3.10/site-packages (from scikit-image>=0.21.0->albumentations) (0.4)\n",
      "Requirement already satisfied: filelock in /opt/conda/lib/python3.10/site-packages (from huggingface_hub->timm) (3.15.1)\n",
      "Requirement already satisfied: fsspec>=2023.5.0 in /opt/conda/lib/python3.10/site-packages (from huggingface_hub->timm) (2024.6.1)\n",
      "Requirement already satisfied: requests in /opt/conda/lib/python3.10/site-packages (from huggingface_hub->timm) (2.32.3)\n",
      "Requirement already satisfied: tqdm>=4.42.1 in /opt/conda/lib/python3.10/site-packages (from huggingface_hub->timm) (4.66.4)\n",
      "Requirement already satisfied: joblib>=1.1.1 in /opt/conda/lib/python3.10/site-packages (from scikit-learn->iterative-stratification) (1.4.2)\n",
      "Requirement already satisfied: threadpoolctl>=2.0.0 in /opt/conda/lib/python3.10/site-packages (from scikit-learn->iterative-stratification) (3.5.0)\n",
      "Requirement already satisfied: sympy in /opt/conda/lib/python3.10/site-packages (from torch->timm) (1.13.3)\n",
      "Requirement already satisfied: jinja2 in /opt/conda/lib/python3.10/site-packages (from torch->timm) (3.1.4)\n",
      "Requirement already satisfied: pyparsing!=3.0.5,>=2.0.2 in /opt/conda/lib/python3.10/site-packages (from packaging>=21->scikit-image>=0.21.0->albumentations) (3.1.2)\n",
      "Requirement already satisfied: MarkupSafe>=2.0 in /opt/conda/lib/python3.10/site-packages (from jinja2->torch->timm) (2.1.5)\n",
      "Requirement already satisfied: charset-normalizer<4,>=2 in /opt/conda/lib/python3.10/site-packages (from requests->huggingface_hub->timm) (3.3.2)\n",
      "Requirement already satisfied: idna<4,>=2.5 in /opt/conda/lib/python3.10/site-packages (from requests->huggingface_hub->timm) (3.7)\n",
      "Requirement already satisfied: urllib3<3,>=1.21.1 in /opt/conda/lib/python3.10/site-packages (from requests->huggingface_hub->timm) (1.26.18)\n",
      "Requirement already satisfied: certifi>=2017.4.17 in /opt/conda/lib/python3.10/site-packages (from requests->huggingface_hub->timm) (2024.8.30)\n",
      "Requirement already satisfied: mpmath<1.4,>=1.1.0 in /opt/conda/lib/python3.10/site-packages (from sympy->torch->timm) (1.3.0)\n"
     ]
    }
   ],
   "source": [
    "!pip install iterative-stratification albumentations timm"
   ]
  },
  {
   "cell_type": "code",
   "execution_count": 1,
   "metadata": {
    "execution": {
     "iopub.execute_input": "2024-10-16T16:16:25.422837Z",
     "iopub.status.busy": "2024-10-16T16:16:25.421746Z",
     "iopub.status.idle": "2024-10-16T16:16:46.851286Z",
     "shell.execute_reply": "2024-10-16T16:16:46.850216Z",
     "shell.execute_reply.started": "2024-10-16T16:16:25.422762Z"
    },
    "trusted": true
   },
   "outputs": [
    {
     "name": "stderr",
     "output_type": "stream",
     "text": [
      "2025-03-03 22:39:52.746596: E external/local_xla/xla/stream_executor/cuda/cuda_fft.cc:477] Unable to register cuFFT factory: Attempting to register factory for plugin cuFFT when one has already been registered\n",
      "WARNING: All log messages before absl::InitializeLog() is called are written to STDERR\n",
      "E0000 00:00:1741016392.885062 3580222 cuda_dnn.cc:8310] Unable to register cuDNN factory: Attempting to register factory for plugin cuDNN when one has already been registered\n",
      "E0000 00:00:1741016392.935016 3580222 cuda_blas.cc:1418] Unable to register cuBLAS factory: Attempting to register factory for plugin cuBLAS when one has already been registered\n",
      "2025-03-03 22:39:53.311672: I tensorflow/core/platform/cpu_feature_guard.cc:210] This TensorFlow binary is optimized to use available CPU instructions in performance-critical operations.\n",
      "To enable the following instructions: AVX2 FMA, in other operations, rebuild TensorFlow with the appropriate compiler flags.\n",
      "/home/ptariya/miniconda3/envs/pt-jupyter/lib/python3.9/site-packages/tqdm/auto.py:21: TqdmWarning: IProgress not found. Please update jupyter and ipywidgets. See https://ipywidgets.readthedocs.io/en/stable/user_install.html\n",
      "  from .autonotebook import tqdm as notebook_tqdm\n"
     ]
    }
   ],
   "source": [
    "import os\n",
    "os.environ['PYTORCH_CUDA_ALLOC_CONF'] = 'expandable_segments:True'\n",
    "import tensorflow as tf\n",
    "from fastai.vision.all import *\n",
    "from fastai.callback.all import *\n",
    "from iterstrat.ml_stratifiers import MultilabelStratifiedKFold\n",
    "import gc\n",
    "import albumentations\n",
    "from albumentations.pytorch import ToTensorV2\n",
    "import warnings\n",
    "import numpy as np\n",
    "import pandas as pd\n",
    "import random\n",
    "import torch\n",
    "import torch.nn as nn\n",
    "import timm\n",
    "import shutil\n",
    "from sklearn.utils.class_weight import compute_class_weight"
   ]
  },
  {
   "cell_type": "code",
   "execution_count": 2,
   "metadata": {
    "execution": {
     "iopub.execute_input": "2024-10-16T16:17:15.083562Z",
     "iopub.status.busy": "2024-10-16T16:17:15.083165Z",
     "iopub.status.idle": "2024-10-16T16:17:15.119584Z",
     "shell.execute_reply": "2024-10-16T16:17:15.118584Z",
     "shell.execute_reply.started": "2024-10-16T16:17:15.083525Z"
    },
    "trusted": true
   },
   "outputs": [],
   "source": [
    "config = {\n",
    "    'seed': 3407,\n",
    "    'use_cuda': True,\n",
    "    'image_size': 300,\n",
    "    'batch_size': 64,\n",
    "    'num_workers': 4,\n",
    "    'num_folds': 5,\n",
    "    'model_name': 'timm/tf_efficientnetv2_s.in21k_ft_in1k',\n",
    "    'mixed_precision' : True,\n",
    "    'augmentation_type': None,  # or 'cutmix','cutout',None\n",
    "#     'fine_tune_epochs': 5,\n",
    "    'fit_one_cycle_epochs': 10,\n",
    "    'learning_rate': 1e-4,\n",
    "    'train_csv_path': '/home/ptariya/deep-learning/train_data.csv',\n",
    "    'test_csv_path': '/home/ptariya/deep-learning/test_data.csv',\n",
    "    'train_image_path' : '/home/ptariya/deep-learning/data',\n",
    "    'test_image_path' : '/home/ptariya/deep-learning/data',\n",
    "    'output_csv_path': None,\n",
    "    'output_csv_confidence_path': None, # For Pesudo Label\n",
    "    'num_gpus': torch.cuda.device_count()  # Use all available GPUs\n",
    "}"
   ]
  },
  {
   "cell_type": "code",
   "execution_count": 4,
   "metadata": {
    "execution": {
     "iopub.execute_input": "2024-10-16T16:17:17.503965Z",
     "iopub.status.busy": "2024-10-16T16:17:17.503586Z",
     "iopub.status.idle": "2024-10-16T16:17:17.517174Z",
     "shell.execute_reply": "2024-10-16T16:17:17.515988Z",
     "shell.execute_reply.started": "2024-10-16T16:17:17.503929Z"
    },
    "trusted": true
   },
   "outputs": [],
   "source": [
    "def random_seed(seed_value, use_cuda):\n",
    "    np.random.seed(seed_value)\n",
    "    torch.manual_seed(seed_value)\n",
    "    random.seed(seed_value)\n",
    "    if use_cuda:\n",
    "        torch.cuda.manual_seed(seed_value)\n",
    "        torch.cuda.manual_seed_all(seed_value)\n",
    "        torch.backends.cudnn.deterministic = True\n",
    "        torch.backends.cudnn.benchmark = False\n",
    "\n",
    "random_seed(config['seed'], config['use_cuda'])"
   ]
  },
  {
   "cell_type": "markdown",
   "metadata": {},
   "source": [
    "## train test split to csv for inference supervised model"
   ]
  },
  {
   "cell_type": "code",
   "execution_count": 4,
   "metadata": {
    "execution": {
     "iopub.execute_input": "2024-10-16T16:17:08.553541Z",
     "iopub.status.busy": "2024-10-16T16:17:08.552753Z",
     "iopub.status.idle": "2024-10-16T16:17:09.464139Z",
     "shell.execute_reply": "2024-10-16T16:17:09.463046Z",
     "shell.execute_reply.started": "2024-10-16T16:17:08.553499Z"
    },
    "trusted": true
   },
   "outputs": [
    {
     "name": "stdout",
     "output_type": "stream",
     "text": [
      "Training DataFrame saved to /home/ptariya/deep-learning/train_data.csv\n",
      "Test DataFrame saved to /home/ptariya/deep-learning/test_data.csv\n"
     ]
    }
   ],
   "source": [
    "from sklearn.model_selection import train_test_split\n",
    "\n",
    "image_paths = []\n",
    "labels = []\n",
    "\n",
    "dataset = '/home/ptariya/deep-learning/data'\n",
    "\n",
    "for folder_name in os.listdir(dataset):\n",
    "    folder_path = os.path.join(dataset, folder_name)\n",
    "\n",
    "    if os.path.isdir(folder_path):\n",
    "        images = [img for img in os.listdir(folder_path) if img.lower().endswith(('.png', '.jpg', '.jpeg'))]\n",
    "\n",
    "        for image_name in images:\n",
    "            image_path = os.path.join(folder_path, image_name)\n",
    "            image_paths.append(image_path)\n",
    "            labels.append(folder_name)\n",
    "\n",
    "data = {\n",
    "    'image_path': image_paths,\n",
    "    'label': labels\n",
    "}\n",
    "df = pd.DataFrame(data)\n",
    "\n",
    "# Split the data into training and testing sets (80% train, 20% test)\n",
    "train_daf, test_daf = train_test_split(df, test_size=0.25, stratify=df['label'], random_state=42)\n",
    "\n",
    "# File paths to save the CSV files\n",
    "train_csv_file_path = '/home/ptariya/deep-learning/train_data.csv'\n",
    "test_csv_file_path = '/home/ptariya/deep-learning/test_data.csv'\n",
    "\n",
    "# Save the training and testing DataFrames to separate CSV files\n",
    "train_daf.to_csv(train_csv_file_path, index=False)\n",
    "test_daf.to_csv(test_csv_file_path, index=False)\n",
    "\n",
    "print(f'Training DataFrame saved to {train_csv_file_path}')\n",
    "print(f'Test DataFrame saved to {test_csv_file_path}')\n"
   ]
  },
  {
   "cell_type": "code",
   "execution_count": 5,
   "metadata": {
    "execution": {
     "iopub.execute_input": "2024-10-16T16:17:26.742017Z",
     "iopub.status.busy": "2024-10-16T16:17:26.740894Z",
     "iopub.status.idle": "2024-10-16T16:17:26.771529Z",
     "shell.execute_reply": "2024-10-16T16:17:26.770300Z",
     "shell.execute_reply.started": "2024-10-16T16:17:26.741968Z"
    },
    "trusted": true
   },
   "outputs": [
    {
     "data": {
      "text/html": [
       "<div>\n",
       "<style scoped>\n",
       "    .dataframe tbody tr th:only-of-type {\n",
       "        vertical-align: middle;\n",
       "    }\n",
       "\n",
       "    .dataframe tbody tr th {\n",
       "        vertical-align: top;\n",
       "    }\n",
       "\n",
       "    .dataframe thead th {\n",
       "        text-align: right;\n",
       "    }\n",
       "</style>\n",
       "<table border=\"1\" class=\"dataframe\">\n",
       "  <thead>\n",
       "    <tr style=\"text-align: right;\">\n",
       "      <th></th>\n",
       "      <th>image_path</th>\n",
       "      <th>label</th>\n",
       "    </tr>\n",
       "  </thead>\n",
       "  <tbody>\n",
       "    <tr>\n",
       "      <th>0</th>\n",
       "      <td>/home/ptariya/deep-learning/data/AluCan/alucan_s1b_386.jpg</td>\n",
       "      <td>AluCan</td>\n",
       "    </tr>\n",
       "    <tr>\n",
       "      <th>1</th>\n",
       "      <td>/home/ptariya/deep-learning/data/AluCan/alucan_s1b_364.jpg</td>\n",
       "      <td>AluCan</td>\n",
       "    </tr>\n",
       "    <tr>\n",
       "      <th>2</th>\n",
       "      <td>/home/ptariya/deep-learning/data/HDPEM/bottle (1009).jpg</td>\n",
       "      <td>HDPEM</td>\n",
       "    </tr>\n",
       "    <tr>\n",
       "      <th>3</th>\n",
       "      <td>/home/ptariya/deep-learning/data/AluCan/AluCan445.jpg</td>\n",
       "      <td>AluCan</td>\n",
       "    </tr>\n",
       "    <tr>\n",
       "      <th>4</th>\n",
       "      <td>/home/ptariya/deep-learning/data/PET/PET1,179.jpg</td>\n",
       "      <td>PET</td>\n",
       "    </tr>\n",
       "    <tr>\n",
       "      <th>...</th>\n",
       "      <td>...</td>\n",
       "      <td>...</td>\n",
       "    </tr>\n",
       "    <tr>\n",
       "      <th>4528</th>\n",
       "      <td>/home/ptariya/deep-learning/data/PET/PET562.jpg</td>\n",
       "      <td>PET</td>\n",
       "    </tr>\n",
       "    <tr>\n",
       "      <th>4529</th>\n",
       "      <td>/home/ptariya/deep-learning/data/PET/PET298.jpg</td>\n",
       "      <td>PET</td>\n",
       "    </tr>\n",
       "    <tr>\n",
       "      <th>4530</th>\n",
       "      <td>/home/ptariya/deep-learning/data/AluCan/AluCan1,062.jpg</td>\n",
       "      <td>AluCan</td>\n",
       "    </tr>\n",
       "    <tr>\n",
       "      <th>4531</th>\n",
       "      <td>/home/ptariya/deep-learning/data/Glass/Glass856.JPG</td>\n",
       "      <td>Glass</td>\n",
       "    </tr>\n",
       "    <tr>\n",
       "      <th>4532</th>\n",
       "      <td>/home/ptariya/deep-learning/data/PET/PET970.jpg</td>\n",
       "      <td>PET</td>\n",
       "    </tr>\n",
       "  </tbody>\n",
       "</table>\n",
       "<p>4533 rows × 2 columns</p>\n",
       "</div>"
      ],
      "text/plain": [
       "                                                      image_path   label\n",
       "0     /home/ptariya/deep-learning/data/AluCan/alucan_s1b_386.jpg  AluCan\n",
       "1     /home/ptariya/deep-learning/data/AluCan/alucan_s1b_364.jpg  AluCan\n",
       "2       /home/ptariya/deep-learning/data/HDPEM/bottle (1009).jpg   HDPEM\n",
       "3          /home/ptariya/deep-learning/data/AluCan/AluCan445.jpg  AluCan\n",
       "4              /home/ptariya/deep-learning/data/PET/PET1,179.jpg     PET\n",
       "...                                                          ...     ...\n",
       "4528             /home/ptariya/deep-learning/data/PET/PET562.jpg     PET\n",
       "4529             /home/ptariya/deep-learning/data/PET/PET298.jpg     PET\n",
       "4530     /home/ptariya/deep-learning/data/AluCan/AluCan1,062.jpg  AluCan\n",
       "4531         /home/ptariya/deep-learning/data/Glass/Glass856.JPG   Glass\n",
       "4532             /home/ptariya/deep-learning/data/PET/PET970.jpg     PET\n",
       "\n",
       "[4533 rows x 2 columns]"
      ]
     },
     "execution_count": 5,
     "metadata": {},
     "output_type": "execute_result"
    }
   ],
   "source": [
    "train_df = pd.read_csv(config['train_csv_path'])\n",
    "train_df['image_path'] = train_df['image_path'].apply(lambda x : x)\n",
    "train_df"
   ]
  },
  {
   "cell_type": "code",
   "execution_count": 6,
   "metadata": {
    "execution": {
     "iopub.execute_input": "2024-10-16T16:17:39.273708Z",
     "iopub.status.busy": "2024-10-16T16:17:39.272859Z",
     "iopub.status.idle": "2024-10-16T16:17:39.691919Z",
     "shell.execute_reply": "2024-10-16T16:17:39.690831Z",
     "shell.execute_reply.started": "2024-10-16T16:17:39.273663Z"
    },
    "trusted": true
   },
   "outputs": [
    {
     "data": {
      "text/plain": [
       "<Axes: xlabel='label'>"
      ]
     },
     "execution_count": 6,
     "metadata": {},
     "output_type": "execute_result"
    },
    {
     "data": {
      "image/png": "[encoded data removed]",
      "text/plain": [
       "<Figure size 640x480 with 1 Axes>"
      ]
     },
     "metadata": {},
     "output_type": "display_data"
    }
   ],
   "source": [
    "train_df.label.value_counts().plot.bar()"
   ]
  },
  {
   "cell_type": "code",
   "execution_count": 7,
   "metadata": {
    "execution": {
     "iopub.execute_input": "2024-10-16T16:17:43.138808Z",
     "iopub.status.busy": "2024-10-16T16:17:43.138362Z",
     "iopub.status.idle": "2024-10-16T16:17:43.381286Z",
     "shell.execute_reply": "2024-10-16T16:17:43.380112Z",
     "shell.execute_reply.started": "2024-10-16T16:17:43.138767Z"
    },
    "trusted": true
   },
   "outputs": [
    {
     "data": {
      "text/html": [
       "<div>\n",
       "<style scoped>\n",
       "    .dataframe tbody tr th:only-of-type {\n",
       "        vertical-align: middle;\n",
       "    }\n",
       "\n",
       "    .dataframe tbody tr th {\n",
       "        vertical-align: top;\n",
       "    }\n",
       "\n",
       "    .dataframe thead th {\n",
       "        text-align: right;\n",
       "    }\n",
       "</style>\n",
       "<table border=\"1\" class=\"dataframe\">\n",
       "  <thead>\n",
       "    <tr style=\"text-align: right;\">\n",
       "      <th></th>\n",
       "      <th>image_path</th>\n",
       "      <th>label</th>\n",
       "      <th>fold</th>\n",
       "    </tr>\n",
       "  </thead>\n",
       "  <tbody>\n",
       "    <tr>\n",
       "      <th>0</th>\n",
       "      <td>/home/ptariya/deep-learning/data/AluCan/alucan_s1b_386.jpg</td>\n",
       "      <td>AluCan</td>\n",
       "      <td>3</td>\n",
       "    </tr>\n",
       "    <tr>\n",
       "      <th>1</th>\n",
       "      <td>/home/ptariya/deep-learning/data/AluCan/alucan_s1b_364.jpg</td>\n",
       "      <td>AluCan</td>\n",
       "      <td>3</td>\n",
       "    </tr>\n",
       "    <tr>\n",
       "      <th>2</th>\n",
       "      <td>/home/ptariya/deep-learning/data/HDPEM/bottle (1009).jpg</td>\n",
       "      <td>HDPEM</td>\n",
       "      <td>3</td>\n",
       "    </tr>\n",
       "    <tr>\n",
       "      <th>3</th>\n",
       "      <td>/home/ptariya/deep-learning/data/AluCan/AluCan445.jpg</td>\n",
       "      <td>AluCan</td>\n",
       "      <td>0</td>\n",
       "    </tr>\n",
       "    <tr>\n",
       "      <th>4</th>\n",
       "      <td>/home/ptariya/deep-learning/data/PET/PET1,179.jpg</td>\n",
       "      <td>PET</td>\n",
       "      <td>3</td>\n",
       "    </tr>\n",
       "  </tbody>\n",
       "</table>\n",
       "</div>"
      ],
      "text/plain": [
       "                                                   image_path   label  fold\n",
       "0  /home/ptariya/deep-learning/data/AluCan/alucan_s1b_386.jpg  AluCan     3\n",
       "1  /home/ptariya/deep-learning/data/AluCan/alucan_s1b_364.jpg  AluCan     3\n",
       "2    /home/ptariya/deep-learning/data/HDPEM/bottle (1009).jpg   HDPEM     3\n",
       "3       /home/ptariya/deep-learning/data/AluCan/AluCan445.jpg  AluCan     0\n",
       "4           /home/ptariya/deep-learning/data/PET/PET1,179.jpg     PET     3"
      ]
     },
     "execution_count": 7,
     "metadata": {},
     "output_type": "execute_result"
    }
   ],
   "source": [
    "strat_kfold = MultilabelStratifiedKFold(n_splits=config['num_folds'], random_state=config['seed'], shuffle=True)\n",
    "train_df['fold'] = -1\n",
    "for i, (_, test_index) in enumerate(strat_kfold.split(train_df.image_path.values, train_df.iloc[:,1:].values)):\n",
    "    train_df.iloc[test_index, -1] = i\n",
    "    \n",
    "train_df.head()"
   ]
  },
  {
   "cell_type": "code",
   "execution_count": 8,
   "metadata": {
    "execution": {
     "iopub.execute_input": "2024-10-16T16:17:49.996117Z",
     "iopub.status.busy": "2024-10-16T16:17:49.995699Z",
     "iopub.status.idle": "2024-10-16T16:17:50.247323Z",
     "shell.execute_reply": "2024-10-16T16:17:50.246260Z",
     "shell.execute_reply.started": "2024-10-16T16:17:49.996075Z"
    },
    "trusted": true
   },
   "outputs": [
    {
     "data": {
      "text/plain": [
       "<Axes: xlabel='fold'>"
      ]
     },
     "execution_count": 8,
     "metadata": {},
     "output_type": "execute_result"
    },
    {
     "data": {
      "image/png": "[encoded data removed]",
      "text/plain": [
       "<Figure size 640x480 with 1 Axes>"
      ]
     },
     "metadata": {},
     "output_type": "display_data"
    }
   ],
   "source": [
    "train_df.fold.value_counts().plot.bar()"
   ]
  },
  {
   "cell_type": "code",
   "execution_count": 9,
   "metadata": {
    "execution": {
     "iopub.execute_input": "2024-10-16T16:17:53.593461Z",
     "iopub.status.busy": "2024-10-16T16:17:53.593056Z",
     "iopub.status.idle": "2024-10-16T16:17:53.606607Z",
     "shell.execute_reply": "2024-10-16T16:17:53.605233Z",
     "shell.execute_reply.started": "2024-10-16T16:17:53.593427Z"
    },
    "trusted": true
   },
   "outputs": [],
   "source": [
    "class_labels = train_df['label'].values\n",
    "classes = np.unique(class_labels)\n",
    "class_weights = compute_class_weight('balanced', classes=classes, y=class_labels)\n",
    "class_weights_dict = {cls: weight for cls, weight in zip(classes, class_weights)}\n",
    "\n",
    "# Define custom loss function with class weights\n",
    "def weighted_loss(pred, target):\n",
    "    weights_tensor = torch.tensor([class_weights_dict[cls] for cls in dls.vocab]).float().to('cuda')\n",
    "    return F.cross_entropy(pred, target, weight=weights_tensor)"
   ]
  },
  {
   "cell_type": "markdown",
   "metadata": {},
   "source": [
    "# Data Augmentation"
   ]
  },
  {
   "cell_type": "code",
   "execution_count": 10,
   "metadata": {
    "execution": {
     "iopub.execute_input": "2024-10-16T16:17:56.395927Z",
     "iopub.status.busy": "2024-10-16T16:17:56.394882Z",
     "iopub.status.idle": "2024-10-16T16:17:56.406135Z",
     "shell.execute_reply": "2024-10-16T16:17:56.405002Z",
     "shell.execute_reply.started": "2024-10-16T16:17:56.395867Z"
    },
    "trusted": true
   },
   "outputs": [],
   "source": [
    "class AlbumentationsTransform(RandTransform):\n",
    "    split_idx, order = None, 2\n",
    "    def __init__(self, train_aug, valid_aug): \n",
    "        super().__init__()\n",
    "        store_attr()\n",
    "\n",
    "    def before_call(self, b, split_idx):\n",
    "        self.idx = split_idx\n",
    "\n",
    "    def encodes(self, img: PILImage):\n",
    "        if self.idx == 0:\n",
    "            aug_img = self.train_aug(image=np.array(img))['image']\n",
    "        else:\n",
    "            aug_img = self.valid_aug(image=np.array(img))['image']\n",
    "            \n",
    "        aug_img = aug_img.astype(np.uint8)\n",
    "        return PILImage.create(aug_img)"
   ]
  },
  {
   "cell_type": "code",
   "execution_count": 35,
   "metadata": {
    "execution": {
     "iopub.execute_input": "2024-10-16T16:17:59.660046Z",
     "iopub.status.busy": "2024-10-16T16:17:59.659656Z",
     "iopub.status.idle": "2024-10-16T16:17:59.925674Z",
     "shell.execute_reply": "2024-10-16T16:17:59.924587Z",
     "shell.execute_reply.started": "2024-10-16T16:17:59.659991Z"
    },
    "trusted": true
   },
   "outputs": [],
   "source": [
    "warnings.filterwarnings('ignore')\n",
    "\n",
    "size = config['image_size']\n",
    "def get_train_aug(): return albumentations.Compose([\n",
    "            albumentations.Resize(always_apply=False, p=1.0, height=size, width=size, interpolation=0),\n",
    "            #AutoContrast(),\n",
    "            #albumentations.PadIfNeeded(always_apply=False, p=1.0, min_height=size, min_width=size, pad_height_divisor=None, pad_width_divisor=None, border_mode=0, value=(255, 255, 255), mask_value=None), #Extra tip, use size that's suitable for the efficentNetwork you are using.\n",
    "            albumentations.Rotate(limit=(-20, 20)),\n",
    "#             albumentations.HorizontalFlip(p=0.5),\n",
    "#             albumentations.VerticalFlip(p=0.5),\n",
    "            #albumentations.Sharpen(always_apply=False, p=1.0, alpha=(0.2, 0.5), lightness=(0.5, 1.0)),\n",
    "            #albumentations.GaussianBlur(always_apply=False, p=1.0, blur_limit=(3, 7), sigma_limit=(0.0, 0)),\n",
    "            # #albumentations.ShiftScaleRotate(always_apply=False, p=1.0, shift_limit_x=(-0.06, 0.06), shift_limit_y=(-0.06, 0.06), scale_limit=(-0.1, 0.1), rotate_limit=(-20, 20), interpolation=0, border_mode=0, value=(255, 255, 255), mask_value=None, rotate_method='largest_box'),\n",
    "            # albumentations.HueSaturationValue(\n",
    "            #     hue_shift_limit=0.2, \n",
    "            #     sat_shift_limit=0.2, \n",
    "            #     val_shift_limit=0.2, \n",
    "            #     p=0.5\n",
    "            # ),\n",
    "            # #albumentations.ColorJitter(contrast=(0.9, 1.1)),\n",
    "            # #albumentations.CLAHE(always_apply=False, p=0.5, clip_limit=(1, 4), tile_grid_size=(8, 8)),\n",
    "            # albumentations.RandomBrightnessContrast(\n",
    "            #     brightness_limit=(-0.2,0.2), \n",
    "            #     contrast_limit=(-0.2, 0.2), \n",
    "            #     p=0.5\n",
    "            # ),\n",
    "            #albumentations.RandomGamma(),\n",
    "            albumentations.ToGray(always_apply=False, p=1.0)\n",
    "            \n",
    "           #albumentations.RandomGridShuffle(p=0.5)\\\n",
    "    ], p=1.0)\n",
    "\n",
    "\n",
    "\n",
    "def get_valid_aug(): return albumentations.Compose([\n",
    "            albumentations.Resize(always_apply=False, p=1.0, height=size, width=size, interpolation=0),\n",
    "  \n",
    "            #albumentations.PadIfNeeded(always_apply=False, p=1.0, min_height=size, min_width=size, pad_height_divisor=None, pad_width_divisor=None, border_mode=0, value=(255, 255, 255), mask_value=None),\n",
    "            #albumentations.ToGray(always_apply=False, p=1.0),\n",
    "            #AutoContrast(),\n",
    "             \n",
    "            ], p=1.0)\n",
    "\n",
    "item_tfms = AlbumentationsTransform(get_train_aug(), get_valid_aug())\n",
    "batch_tfms = [Normalize.from_stats(*imagenet_stats)]"
   ]
  },
  {
   "cell_type": "code",
   "execution_count": 36,
   "metadata": {
    "execution": {
     "iopub.execute_input": "2024-10-16T16:18:02.586658Z",
     "iopub.status.busy": "2024-10-16T16:18:02.585761Z",
     "iopub.status.idle": "2024-10-16T16:18:02.594100Z",
     "shell.execute_reply": "2024-10-16T16:18:02.593163Z",
     "shell.execute_reply.started": "2024-10-16T16:18:02.586601Z"
    },
    "trusted": true
   },
   "outputs": [],
   "source": [
    "def get_data(fold=0):\n",
    "    return DataBlock(\n",
    "        blocks=(ImageBlock, CategoryBlock),\n",
    "        get_x=ColReader(0),\n",
    "        get_y=ColReader(1),\n",
    "        splitter=IndexSplitter(train_df[train_df.fold == fold].index),\n",
    "        item_tfms=[AlbumentationsTransform(get_train_aug(), get_train_aug())],\n",
    "        batch_tfms=[Normalize.from_stats(*imagenet_stats)]\n",
    "    ).dataloaders(train_df, bs=config['batch_size'], num_workers=config['num_workers'])"
   ]
  },
  {
   "cell_type": "code",
   "execution_count": 14,
   "metadata": {
    "execution": {
     "iopub.execute_input": "2024-10-16T16:18:04.406914Z",
     "iopub.status.busy": "2024-10-16T16:18:04.406518Z",
     "iopub.status.idle": "2024-10-16T16:18:04.424589Z",
     "shell.execute_reply": "2024-10-16T16:18:04.423522Z",
     "shell.execute_reply.started": "2024-10-16T16:18:04.406879Z"
    },
    "trusted": true
   },
   "outputs": [
    {
     "data": {
      "text/html": [
       "<div>\n",
       "<style scoped>\n",
       "    .dataframe tbody tr th:only-of-type {\n",
       "        vertical-align: middle;\n",
       "    }\n",
       "\n",
       "    .dataframe tbody tr th {\n",
       "        vertical-align: top;\n",
       "    }\n",
       "\n",
       "    .dataframe thead th {\n",
       "        text-align: right;\n",
       "    }\n",
       "</style>\n",
       "<table border=\"1\" class=\"dataframe\">\n",
       "  <thead>\n",
       "    <tr style=\"text-align: right;\">\n",
       "      <th></th>\n",
       "      <th>image_path</th>\n",
       "      <th>label</th>\n",
       "    </tr>\n",
       "  </thead>\n",
       "  <tbody>\n",
       "    <tr>\n",
       "      <th>0</th>\n",
       "      <td>/home/ptariya/deep-learning/data/HDPEM/HDPEM772.JPG</td>\n",
       "      <td>HDPEM</td>\n",
       "    </tr>\n",
       "    <tr>\n",
       "      <th>1</th>\n",
       "      <td>/home/ptariya/deep-learning/data/AluCan/AluCan733.jpg</td>\n",
       "      <td>AluCan</td>\n",
       "    </tr>\n",
       "    <tr>\n",
       "      <th>2</th>\n",
       "      <td>/home/ptariya/deep-learning/data/AluCan/AluCan916.jpg</td>\n",
       "      <td>AluCan</td>\n",
       "    </tr>\n",
       "    <tr>\n",
       "      <th>3</th>\n",
       "      <td>/home/ptariya/deep-learning/data/AluCan/AluCan505.jpg</td>\n",
       "      <td>AluCan</td>\n",
       "    </tr>\n",
       "    <tr>\n",
       "      <th>4</th>\n",
       "      <td>/home/ptariya/deep-learning/data/HDPEM/HDPEM966.JPG</td>\n",
       "      <td>HDPEM</td>\n",
       "    </tr>\n",
       "  </tbody>\n",
       "</table>\n",
       "</div>"
      ],
      "text/plain": [
       "                                              image_path   label\n",
       "0    /home/ptariya/deep-learning/data/HDPEM/HDPEM772.JPG   HDPEM\n",
       "1  /home/ptariya/deep-learning/data/AluCan/AluCan733.jpg  AluCan\n",
       "2  /home/ptariya/deep-learning/data/AluCan/AluCan916.jpg  AluCan\n",
       "3  /home/ptariya/deep-learning/data/AluCan/AluCan505.jpg  AluCan\n",
       "4    /home/ptariya/deep-learning/data/HDPEM/HDPEM966.JPG   HDPEM"
      ]
     },
     "execution_count": 14,
     "metadata": {},
     "output_type": "execute_result"
    }
   ],
   "source": [
    "test_df = pd.read_csv(config['test_csv_path'])\n",
    "test_df['image_path'] = test_df['image_path'].apply(lambda x : x )\n",
    "tstpng = test_df.copy()\n",
    "tstpng.head()"
   ]
  },
  {
   "cell_type": "code",
   "execution_count": 39,
   "metadata": {
    "execution": {
     "iopub.execute_input": "2024-10-16T16:18:07.730487Z",
     "iopub.status.busy": "2024-10-16T16:18:07.729658Z",
     "iopub.status.idle": "2024-10-16T16:18:07.735738Z",
     "shell.execute_reply": "2024-10-16T16:18:07.734662Z",
     "shell.execute_reply.started": "2024-10-16T16:18:07.730444Z"
    },
    "trusted": true
   },
   "outputs": [],
   "source": [
    "def create_model(model_name, num_classes):\n",
    "    model = timm.create_model(model_name, pretrained=True, num_classes=num_classes)\n",
    "    if config['num_gpus'] > 1:\n",
    "        model = nn.DataParallel(model)\n",
    "    return model"
   ]
  },
  {
   "cell_type": "code",
   "execution_count": 37,
   "metadata": {
    "execution": {
     "iopub.execute_input": "2024-10-16T16:21:39.282673Z",
     "iopub.status.busy": "2024-10-16T16:21:39.282235Z",
     "iopub.status.idle": "2024-10-16T16:21:39.290079Z",
     "shell.execute_reply": "2024-10-16T16:21:39.288721Z",
     "shell.execute_reply.started": "2024-10-16T16:21:39.282633Z"
    },
    "trusted": true
   },
   "outputs": [],
   "source": [
    "def get_augmentation_callback(augmentation_type, alpha=1.0, cutout_size=8):\n",
    "    if augmentation_type == 'mixup':\n",
    "        return MixUp(alpha=alpha)\n",
    "    elif augmentation_type == 'cutmix':\n",
    "        return CutMix(alpha=alpha)\n",
    "    elif augmentation_type == 'cutout':\n",
    "        # Return a callback that applies CutOut\n",
    "        return aug_transforms(cutout=cutout_size)\n",
    "    else:\n",
    "        return None"
   ]
  },
  {
   "cell_type": "code",
   "execution_count": 40,
   "metadata": {},
   "outputs": [
    {
     "data": {
      "text/html": [
       "\n",
       "<style>\n",
       "    /* Turns off some styling */\n",
       "    progress {\n",
       "        /* gets rid of default border in Firefox and Opera. */\n",
       "        border: none;\n",
       "        /* Needs to be in here for Safari polyfill so background images work as expected. */\n",
       "        background-size: auto;\n",
       "    }\n",
       "    progress:not([value]), progress:not([value])::-webkit-progress-bar {\n",
       "        background: repeating-linear-gradient(45deg, #7e7e7e, #7e7e7e 10px, #5c5c5c 10px, #5c5c5c 20px);\n",
       "    }\n",
       "    .progress-bar-interrupted, .progress-bar-interrupted::-webkit-progress-bar {\n",
       "        background: #F44336;\n",
       "    }\n",
       "</style>\n"
      ],
      "text/plain": [
       "<IPython.core.display.HTML object>"
      ]
     },
     "metadata": {},
     "output_type": "display_data"
    },
    {
     "data": {
      "text/html": [
       "<table border=\"1\" class=\"dataframe\">\n",
       "  <thead>\n",
       "    <tr style=\"text-align: left;\">\n",
       "      <th>epoch</th>\n",
       "      <th>train_loss</th>\n",
       "      <th>valid_loss</th>\n",
       "      <th>accuracy</th>\n",
       "      <th>time</th>\n",
       "    </tr>\n",
       "  </thead>\n",
       "  <tbody>\n",
       "    <tr>\n",
       "      <td>0</td>\n",
       "      <td>4.352128</td>\n",
       "      <td>1.346125</td>\n",
       "      <td>0.712238</td>\n",
       "      <td>00:52</td>\n",
       "    </tr>\n",
       "    <tr>\n",
       "      <td>1</td>\n",
       "      <td>1.453506</td>\n",
       "      <td>0.281010</td>\n",
       "      <td>0.923925</td>\n",
       "      <td>00:52</td>\n",
       "    </tr>\n",
       "    <tr>\n",
       "      <td>2</td>\n",
       "      <td>0.520743</td>\n",
       "      <td>0.230409</td>\n",
       "      <td>0.945976</td>\n",
       "      <td>00:51</td>\n",
       "    </tr>\n",
       "    <tr>\n",
       "      <td>3</td>\n",
       "      <td>0.194511</td>\n",
       "      <td>0.150332</td>\n",
       "      <td>0.959206</td>\n",
       "      <td>00:51</td>\n",
       "    </tr>\n",
       "    <tr>\n",
       "      <td>4</td>\n",
       "      <td>0.084292</td>\n",
       "      <td>0.150136</td>\n",
       "      <td>0.965821</td>\n",
       "      <td>00:52</td>\n",
       "    </tr>\n",
       "    <tr>\n",
       "      <td>5</td>\n",
       "      <td>0.039530</td>\n",
       "      <td>0.124318</td>\n",
       "      <td>0.970232</td>\n",
       "      <td>00:52</td>\n",
       "    </tr>\n",
       "    <tr>\n",
       "      <td>6</td>\n",
       "      <td>0.019645</td>\n",
       "      <td>0.118249</td>\n",
       "      <td>0.972437</td>\n",
       "      <td>00:51</td>\n",
       "    </tr>\n",
       "    <tr>\n",
       "      <td>7</td>\n",
       "      <td>0.013784</td>\n",
       "      <td>0.110989</td>\n",
       "      <td>0.976847</td>\n",
       "      <td>00:51</td>\n",
       "    </tr>\n",
       "    <tr>\n",
       "      <td>8</td>\n",
       "      <td>0.010331</td>\n",
       "      <td>0.104297</td>\n",
       "      <td>0.977949</td>\n",
       "      <td>00:52</td>\n",
       "    </tr>\n",
       "    <tr>\n",
       "      <td>9</td>\n",
       "      <td>0.009451</td>\n",
       "      <td>0.101998</td>\n",
       "      <td>0.976847</td>\n",
       "      <td>00:59</td>\n",
       "    </tr>\n",
       "  </tbody>\n",
       "</table>"
      ],
      "text/plain": [
       "<IPython.core.display.HTML object>"
      ]
     },
     "metadata": {},
     "output_type": "display_data"
    },
    {
     "name": "stdout",
     "output_type": "stream",
     "text": [
      "Better model found at epoch 0 with valid_loss value: 1.3461252450942993.\n",
      "Better model found at epoch 1 with valid_loss value: 0.28101009130477905.\n",
      "Better model found at epoch 2 with valid_loss value: 0.23040887713432312.\n",
      "Better model found at epoch 3 with valid_loss value: 0.15033207833766937.\n",
      "Better model found at epoch 4 with valid_loss value: 0.15013551712036133.\n",
      "Better model found at epoch 5 with valid_loss value: 0.12431778758764267.\n",
      "Better model found at epoch 6 with valid_loss value: 0.11824910342693329.\n",
      "Better model found at epoch 7 with valid_loss value: 0.11098930984735489.\n",
      "Better model found at epoch 8 with valid_loss value: 0.10429684072732925.\n",
      "Better model found at epoch 9 with valid_loss value: 0.10199839621782303.\n"
     ]
    },
    {
     "data": {
      "text/html": [
       "\n",
       "<style>\n",
       "    /* Turns off some styling */\n",
       "    progress {\n",
       "        /* gets rid of default border in Firefox and Opera. */\n",
       "        border: none;\n",
       "        /* Needs to be in here for Safari polyfill so background images work as expected. */\n",
       "        background-size: auto;\n",
       "    }\n",
       "    progress:not([value]), progress:not([value])::-webkit-progress-bar {\n",
       "        background: repeating-linear-gradient(45deg, #7e7e7e, #7e7e7e 10px, #5c5c5c 10px, #5c5c5c 20px);\n",
       "    }\n",
       "    .progress-bar-interrupted, .progress-bar-interrupted::-webkit-progress-bar {\n",
       "        background: #F44336;\n",
       "    }\n",
       "</style>\n"
      ],
      "text/plain": [
       "<IPython.core.display.HTML object>"
      ]
     },
     "metadata": {},
     "output_type": "display_data"
    },
    {
     "data": {
      "text/html": [],
      "text/plain": [
       "<IPython.core.display.HTML object>"
      ]
     },
     "metadata": {},
     "output_type": "display_data"
    },
    {
     "data": {
      "text/html": [
       "\n",
       "<style>\n",
       "    /* Turns off some styling */\n",
       "    progress {\n",
       "        /* gets rid of default border in Firefox and Opera. */\n",
       "        border: none;\n",
       "        /* Needs to be in here for Safari polyfill so background images work as expected. */\n",
       "        background-size: auto;\n",
       "    }\n",
       "    progress:not([value]), progress:not([value])::-webkit-progress-bar {\n",
       "        background: repeating-linear-gradient(45deg, #7e7e7e, #7e7e7e 10px, #5c5c5c 10px, #5c5c5c 20px);\n",
       "    }\n",
       "    .progress-bar-interrupted, .progress-bar-interrupted::-webkit-progress-bar {\n",
       "        background: #F44336;\n",
       "    }\n",
       "</style>\n"
      ],
      "text/plain": [
       "<IPython.core.display.HTML object>"
      ]
     },
     "metadata": {},
     "output_type": "display_data"
    },
    {
     "data": {
      "text/html": [
       "<table border=\"1\" class=\"dataframe\">\n",
       "  <thead>\n",
       "    <tr style=\"text-align: left;\">\n",
       "      <th>epoch</th>\n",
       "      <th>train_loss</th>\n",
       "      <th>valid_loss</th>\n",
       "      <th>accuracy</th>\n",
       "      <th>time</th>\n",
       "    </tr>\n",
       "  </thead>\n",
       "  <tbody>\n",
       "    <tr>\n",
       "      <td>0</td>\n",
       "      <td>4.632073</td>\n",
       "      <td>1.543007</td>\n",
       "      <td>0.676957</td>\n",
       "      <td>00:52</td>\n",
       "    </tr>\n",
       "    <tr>\n",
       "      <td>1</td>\n",
       "      <td>1.523020</td>\n",
       "      <td>0.313315</td>\n",
       "      <td>0.927233</td>\n",
       "      <td>00:51</td>\n",
       "    </tr>\n",
       "    <tr>\n",
       "      <td>2</td>\n",
       "      <td>0.552104</td>\n",
       "      <td>0.172089</td>\n",
       "      <td>0.950386</td>\n",
       "      <td>00:52</td>\n",
       "    </tr>\n",
       "    <tr>\n",
       "      <td>3</td>\n",
       "      <td>0.219403</td>\n",
       "      <td>0.129167</td>\n",
       "      <td>0.959206</td>\n",
       "      <td>00:52</td>\n",
       "    </tr>\n",
       "    <tr>\n",
       "      <td>4</td>\n",
       "      <td>0.095289</td>\n",
       "      <td>0.099818</td>\n",
       "      <td>0.971334</td>\n",
       "      <td>00:52</td>\n",
       "    </tr>\n",
       "    <tr>\n",
       "      <td>5</td>\n",
       "      <td>0.047564</td>\n",
       "      <td>0.081329</td>\n",
       "      <td>0.970232</td>\n",
       "      <td>00:52</td>\n",
       "    </tr>\n",
       "    <tr>\n",
       "      <td>6</td>\n",
       "      <td>0.023036</td>\n",
       "      <td>0.090247</td>\n",
       "      <td>0.973539</td>\n",
       "      <td>00:52</td>\n",
       "    </tr>\n",
       "  </tbody>\n",
       "</table>"
      ],
      "text/plain": [
       "<IPython.core.display.HTML object>"
      ]
     },
     "metadata": {},
     "output_type": "display_data"
    },
    {
     "name": "stdout",
     "output_type": "stream",
     "text": [
      "Better model found at epoch 0 with valid_loss value: 1.5430073738098145.\n",
      "Better model found at epoch 1 with valid_loss value: 0.31331536173820496.\n",
      "Better model found at epoch 2 with valid_loss value: 0.1720891296863556.\n",
      "Better model found at epoch 3 with valid_loss value: 0.12916697561740875.\n",
      "Better model found at epoch 4 with valid_loss value: 0.09981779754161835.\n",
      "Better model found at epoch 5 with valid_loss value: 0.08132927864789963.\n",
      "No improvement since epoch 5: early stopping\n"
     ]
    },
    {
     "data": {
      "text/html": [
       "\n",
       "<style>\n",
       "    /* Turns off some styling */\n",
       "    progress {\n",
       "        /* gets rid of default border in Firefox and Opera. */\n",
       "        border: none;\n",
       "        /* Needs to be in here for Safari polyfill so background images work as expected. */\n",
       "        background-size: auto;\n",
       "    }\n",
       "    progress:not([value]), progress:not([value])::-webkit-progress-bar {\n",
       "        background: repeating-linear-gradient(45deg, #7e7e7e, #7e7e7e 10px, #5c5c5c 10px, #5c5c5c 20px);\n",
       "    }\n",
       "    .progress-bar-interrupted, .progress-bar-interrupted::-webkit-progress-bar {\n",
       "        background: #F44336;\n",
       "    }\n",
       "</style>\n"
      ],
      "text/plain": [
       "<IPython.core.display.HTML object>"
      ]
     },
     "metadata": {},
     "output_type": "display_data"
    },
    {
     "data": {
      "text/html": [],
      "text/plain": [
       "<IPython.core.display.HTML object>"
      ]
     },
     "metadata": {},
     "output_type": "display_data"
    },
    {
     "data": {
      "text/html": [
       "\n",
       "<style>\n",
       "    /* Turns off some styling */\n",
       "    progress {\n",
       "        /* gets rid of default border in Firefox and Opera. */\n",
       "        border: none;\n",
       "        /* Needs to be in here for Safari polyfill so background images work as expected. */\n",
       "        background-size: auto;\n",
       "    }\n",
       "    progress:not([value]), progress:not([value])::-webkit-progress-bar {\n",
       "        background: repeating-linear-gradient(45deg, #7e7e7e, #7e7e7e 10px, #5c5c5c 10px, #5c5c5c 20px);\n",
       "    }\n",
       "    .progress-bar-interrupted, .progress-bar-interrupted::-webkit-progress-bar {\n",
       "        background: #F44336;\n",
       "    }\n",
       "</style>\n"
      ],
      "text/plain": [
       "<IPython.core.display.HTML object>"
      ]
     },
     "metadata": {},
     "output_type": "display_data"
    },
    {
     "data": {
      "text/html": [
       "<table border=\"1\" class=\"dataframe\">\n",
       "  <thead>\n",
       "    <tr style=\"text-align: left;\">\n",
       "      <th>epoch</th>\n",
       "      <th>train_loss</th>\n",
       "      <th>valid_loss</th>\n",
       "      <th>accuracy</th>\n",
       "      <th>time</th>\n",
       "    </tr>\n",
       "  </thead>\n",
       "  <tbody>\n",
       "    <tr>\n",
       "      <td>0</td>\n",
       "      <td>4.185783</td>\n",
       "      <td>1.522424</td>\n",
       "      <td>0.707828</td>\n",
       "      <td>00:52</td>\n",
       "    </tr>\n",
       "    <tr>\n",
       "      <td>1</td>\n",
       "      <td>1.438197</td>\n",
       "      <td>0.316138</td>\n",
       "      <td>0.911797</td>\n",
       "      <td>00:52</td>\n",
       "    </tr>\n",
       "    <tr>\n",
       "      <td>2</td>\n",
       "      <td>0.539998</td>\n",
       "      <td>0.188496</td>\n",
       "      <td>0.953694</td>\n",
       "      <td>00:52</td>\n",
       "    </tr>\n",
       "    <tr>\n",
       "      <td>3</td>\n",
       "      <td>0.215093</td>\n",
       "      <td>0.106564</td>\n",
       "      <td>0.970232</td>\n",
       "      <td>00:52</td>\n",
       "    </tr>\n",
       "    <tr>\n",
       "      <td>4</td>\n",
       "      <td>0.092002</td>\n",
       "      <td>0.110188</td>\n",
       "      <td>0.970232</td>\n",
       "      <td>00:52</td>\n",
       "    </tr>\n",
       "  </tbody>\n",
       "</table>"
      ],
      "text/plain": [
       "<IPython.core.display.HTML object>"
      ]
     },
     "metadata": {},
     "output_type": "display_data"
    },
    {
     "name": "stdout",
     "output_type": "stream",
     "text": [
      "Better model found at epoch 0 with valid_loss value: 1.5224236249923706.\n",
      "Better model found at epoch 1 with valid_loss value: 0.3161375820636749.\n",
      "Better model found at epoch 2 with valid_loss value: 0.18849600851535797.\n",
      "Better model found at epoch 3 with valid_loss value: 0.10656380653381348.\n",
      "No improvement since epoch 3: early stopping\n"
     ]
    },
    {
     "data": {
      "text/html": [
       "\n",
       "<style>\n",
       "    /* Turns off some styling */\n",
       "    progress {\n",
       "        /* gets rid of default border in Firefox and Opera. */\n",
       "        border: none;\n",
       "        /* Needs to be in here for Safari polyfill so background images work as expected. */\n",
       "        background-size: auto;\n",
       "    }\n",
       "    progress:not([value]), progress:not([value])::-webkit-progress-bar {\n",
       "        background: repeating-linear-gradient(45deg, #7e7e7e, #7e7e7e 10px, #5c5c5c 10px, #5c5c5c 20px);\n",
       "    }\n",
       "    .progress-bar-interrupted, .progress-bar-interrupted::-webkit-progress-bar {\n",
       "        background: #F44336;\n",
       "    }\n",
       "</style>\n"
      ],
      "text/plain": [
       "<IPython.core.display.HTML object>"
      ]
     },
     "metadata": {},
     "output_type": "display_data"
    },
    {
     "data": {
      "text/html": [],
      "text/plain": [
       "<IPython.core.display.HTML object>"
      ]
     },
     "metadata": {},
     "output_type": "display_data"
    },
    {
     "data": {
      "text/html": [
       "\n",
       "<style>\n",
       "    /* Turns off some styling */\n",
       "    progress {\n",
       "        /* gets rid of default border in Firefox and Opera. */\n",
       "        border: none;\n",
       "        /* Needs to be in here for Safari polyfill so background images work as expected. */\n",
       "        background-size: auto;\n",
       "    }\n",
       "    progress:not([value]), progress:not([value])::-webkit-progress-bar {\n",
       "        background: repeating-linear-gradient(45deg, #7e7e7e, #7e7e7e 10px, #5c5c5c 10px, #5c5c5c 20px);\n",
       "    }\n",
       "    .progress-bar-interrupted, .progress-bar-interrupted::-webkit-progress-bar {\n",
       "        background: #F44336;\n",
       "    }\n",
       "</style>\n"
      ],
      "text/plain": [
       "<IPython.core.display.HTML object>"
      ]
     },
     "metadata": {},
     "output_type": "display_data"
    },
    {
     "data": {
      "text/html": [
       "<table border=\"1\" class=\"dataframe\">\n",
       "  <thead>\n",
       "    <tr style=\"text-align: left;\">\n",
       "      <th>epoch</th>\n",
       "      <th>train_loss</th>\n",
       "      <th>valid_loss</th>\n",
       "      <th>accuracy</th>\n",
       "      <th>time</th>\n",
       "    </tr>\n",
       "  </thead>\n",
       "  <tbody>\n",
       "    <tr>\n",
       "      <td>0</td>\n",
       "      <td>4.639933</td>\n",
       "      <td>1.502862</td>\n",
       "      <td>0.704194</td>\n",
       "      <td>00:52</td>\n",
       "    </tr>\n",
       "    <tr>\n",
       "      <td>1</td>\n",
       "      <td>1.545818</td>\n",
       "      <td>0.280916</td>\n",
       "      <td>0.921634</td>\n",
       "      <td>00:52</td>\n",
       "    </tr>\n",
       "    <tr>\n",
       "      <td>2</td>\n",
       "      <td>0.545145</td>\n",
       "      <td>0.148469</td>\n",
       "      <td>0.950331</td>\n",
       "      <td>00:52</td>\n",
       "    </tr>\n",
       "    <tr>\n",
       "      <td>3</td>\n",
       "      <td>0.209528</td>\n",
       "      <td>0.100059</td>\n",
       "      <td>0.965784</td>\n",
       "      <td>00:52</td>\n",
       "    </tr>\n",
       "    <tr>\n",
       "      <td>4</td>\n",
       "      <td>0.086546</td>\n",
       "      <td>0.086768</td>\n",
       "      <td>0.972406</td>\n",
       "      <td>00:52</td>\n",
       "    </tr>\n",
       "    <tr>\n",
       "      <td>5</td>\n",
       "      <td>0.045267</td>\n",
       "      <td>0.080562</td>\n",
       "      <td>0.976821</td>\n",
       "      <td>00:52</td>\n",
       "    </tr>\n",
       "    <tr>\n",
       "      <td>6</td>\n",
       "      <td>0.025538</td>\n",
       "      <td>0.076917</td>\n",
       "      <td>0.974614</td>\n",
       "      <td>00:52</td>\n",
       "    </tr>\n",
       "    <tr>\n",
       "      <td>7</td>\n",
       "      <td>0.014990</td>\n",
       "      <td>0.070809</td>\n",
       "      <td>0.977925</td>\n",
       "      <td>00:52</td>\n",
       "    </tr>\n",
       "    <tr>\n",
       "      <td>8</td>\n",
       "      <td>0.011458</td>\n",
       "      <td>0.069060</td>\n",
       "      <td>0.976821</td>\n",
       "      <td>00:53</td>\n",
       "    </tr>\n",
       "    <tr>\n",
       "      <td>9</td>\n",
       "      <td>0.009455</td>\n",
       "      <td>0.066206</td>\n",
       "      <td>0.977925</td>\n",
       "      <td>00:52</td>\n",
       "    </tr>\n",
       "  </tbody>\n",
       "</table>"
      ],
      "text/plain": [
       "<IPython.core.display.HTML object>"
      ]
     },
     "metadata": {},
     "output_type": "display_data"
    },
    {
     "name": "stdout",
     "output_type": "stream",
     "text": [
      "Better model found at epoch 0 with valid_loss value: 1.5028620958328247.\n",
      "Better model found at epoch 1 with valid_loss value: 0.28091588616371155.\n",
      "Better model found at epoch 2 with valid_loss value: 0.14846935868263245.\n",
      "Better model found at epoch 3 with valid_loss value: 0.10005923360586166.\n",
      "Better model found at epoch 4 with valid_loss value: 0.0867677703499794.\n",
      "Better model found at epoch 5 with valid_loss value: 0.08056160807609558.\n",
      "Better model found at epoch 6 with valid_loss value: 0.0769166648387909.\n",
      "Better model found at epoch 7 with valid_loss value: 0.07080855965614319.\n",
      "Better model found at epoch 8 with valid_loss value: 0.06906025111675262.\n",
      "Better model found at epoch 9 with valid_loss value: 0.06620554625988007.\n"
     ]
    },
    {
     "data": {
      "text/html": [
       "\n",
       "<style>\n",
       "    /* Turns off some styling */\n",
       "    progress {\n",
       "        /* gets rid of default border in Firefox and Opera. */\n",
       "        border: none;\n",
       "        /* Needs to be in here for Safari polyfill so background images work as expected. */\n",
       "        background-size: auto;\n",
       "    }\n",
       "    progress:not([value]), progress:not([value])::-webkit-progress-bar {\n",
       "        background: repeating-linear-gradient(45deg, #7e7e7e, #7e7e7e 10px, #5c5c5c 10px, #5c5c5c 20px);\n",
       "    }\n",
       "    .progress-bar-interrupted, .progress-bar-interrupted::-webkit-progress-bar {\n",
       "        background: #F44336;\n",
       "    }\n",
       "</style>\n"
      ],
      "text/plain": [
       "<IPython.core.display.HTML object>"
      ]
     },
     "metadata": {},
     "output_type": "display_data"
    },
    {
     "data": {
      "text/html": [],
      "text/plain": [
       "<IPython.core.display.HTML object>"
      ]
     },
     "metadata": {},
     "output_type": "display_data"
    },
    {
     "data": {
      "text/html": [
       "\n",
       "<style>\n",
       "    /* Turns off some styling */\n",
       "    progress {\n",
       "        /* gets rid of default border in Firefox and Opera. */\n",
       "        border: none;\n",
       "        /* Needs to be in here for Safari polyfill so background images work as expected. */\n",
       "        background-size: auto;\n",
       "    }\n",
       "    progress:not([value]), progress:not([value])::-webkit-progress-bar {\n",
       "        background: repeating-linear-gradient(45deg, #7e7e7e, #7e7e7e 10px, #5c5c5c 10px, #5c5c5c 20px);\n",
       "    }\n",
       "    .progress-bar-interrupted, .progress-bar-interrupted::-webkit-progress-bar {\n",
       "        background: #F44336;\n",
       "    }\n",
       "</style>\n"
      ],
      "text/plain": [
       "<IPython.core.display.HTML object>"
      ]
     },
     "metadata": {},
     "output_type": "display_data"
    },
    {
     "data": {
      "text/html": [
       "<table border=\"1\" class=\"dataframe\">\n",
       "  <thead>\n",
       "    <tr style=\"text-align: left;\">\n",
       "      <th>epoch</th>\n",
       "      <th>train_loss</th>\n",
       "      <th>valid_loss</th>\n",
       "      <th>accuracy</th>\n",
       "      <th>time</th>\n",
       "    </tr>\n",
       "  </thead>\n",
       "  <tbody>\n",
       "    <tr>\n",
       "      <td>0</td>\n",
       "      <td>3.905074</td>\n",
       "      <td>1.571390</td>\n",
       "      <td>0.685430</td>\n",
       "      <td>00:51</td>\n",
       "    </tr>\n",
       "    <tr>\n",
       "      <td>1</td>\n",
       "      <td>1.314060</td>\n",
       "      <td>0.335214</td>\n",
       "      <td>0.922737</td>\n",
       "      <td>00:51</td>\n",
       "    </tr>\n",
       "    <tr>\n",
       "      <td>2</td>\n",
       "      <td>0.484069</td>\n",
       "      <td>0.226809</td>\n",
       "      <td>0.950331</td>\n",
       "      <td>00:52</td>\n",
       "    </tr>\n",
       "    <tr>\n",
       "      <td>3</td>\n",
       "      <td>0.191637</td>\n",
       "      <td>0.163998</td>\n",
       "      <td>0.959161</td>\n",
       "      <td>00:52</td>\n",
       "    </tr>\n",
       "    <tr>\n",
       "      <td>4</td>\n",
       "      <td>0.080484</td>\n",
       "      <td>0.155863</td>\n",
       "      <td>0.961369</td>\n",
       "      <td>00:52</td>\n",
       "    </tr>\n",
       "    <tr>\n",
       "      <td>5</td>\n",
       "      <td>0.038345</td>\n",
       "      <td>0.136176</td>\n",
       "      <td>0.972406</td>\n",
       "      <td>00:52</td>\n",
       "    </tr>\n",
       "    <tr>\n",
       "      <td>6</td>\n",
       "      <td>0.022388</td>\n",
       "      <td>0.134581</td>\n",
       "      <td>0.970199</td>\n",
       "      <td>00:52</td>\n",
       "    </tr>\n",
       "    <tr>\n",
       "      <td>7</td>\n",
       "      <td>0.014359</td>\n",
       "      <td>0.119897</td>\n",
       "      <td>0.976821</td>\n",
       "      <td>00:52</td>\n",
       "    </tr>\n",
       "    <tr>\n",
       "      <td>8</td>\n",
       "      <td>0.010895</td>\n",
       "      <td>0.111650</td>\n",
       "      <td>0.976821</td>\n",
       "      <td>00:52</td>\n",
       "    </tr>\n",
       "    <tr>\n",
       "      <td>9</td>\n",
       "      <td>0.008676</td>\n",
       "      <td>0.115838</td>\n",
       "      <td>0.976821</td>\n",
       "      <td>00:52</td>\n",
       "    </tr>\n",
       "  </tbody>\n",
       "</table>"
      ],
      "text/plain": [
       "<IPython.core.display.HTML object>"
      ]
     },
     "metadata": {},
     "output_type": "display_data"
    },
    {
     "name": "stdout",
     "output_type": "stream",
     "text": [
      "Better model found at epoch 0 with valid_loss value: 1.5713902711868286.\n",
      "Better model found at epoch 1 with valid_loss value: 0.3352135419845581.\n",
      "Better model found at epoch 2 with valid_loss value: 0.22680935263633728.\n",
      "Better model found at epoch 3 with valid_loss value: 0.1639980673789978.\n",
      "Better model found at epoch 4 with valid_loss value: 0.15586315095424652.\n",
      "Better model found at epoch 5 with valid_loss value: 0.13617637753486633.\n",
      "Better model found at epoch 6 with valid_loss value: 0.13458138704299927.\n",
      "Better model found at epoch 7 with valid_loss value: 0.11989664286375046.\n",
      "Better model found at epoch 8 with valid_loss value: 0.11165016889572144.\n",
      "No improvement since epoch 8: early stopping\n"
     ]
    },
    {
     "data": {
      "text/html": [
       "\n",
       "<style>\n",
       "    /* Turns off some styling */\n",
       "    progress {\n",
       "        /* gets rid of default border in Firefox and Opera. */\n",
       "        border: none;\n",
       "        /* Needs to be in here for Safari polyfill so background images work as expected. */\n",
       "        background-size: auto;\n",
       "    }\n",
       "    progress:not([value]), progress:not([value])::-webkit-progress-bar {\n",
       "        background: repeating-linear-gradient(45deg, #7e7e7e, #7e7e7e 10px, #5c5c5c 10px, #5c5c5c 20px);\n",
       "    }\n",
       "    .progress-bar-interrupted, .progress-bar-interrupted::-webkit-progress-bar {\n",
       "        background: #F44336;\n",
       "    }\n",
       "</style>\n"
      ],
      "text/plain": [
       "<IPython.core.display.HTML object>"
      ]
     },
     "metadata": {},
     "output_type": "display_data"
    },
    {
     "data": {
      "text/html": [],
      "text/plain": [
       "<IPython.core.display.HTML object>"
      ]
     },
     "metadata": {},
     "output_type": "display_data"
    },
    {
     "name": "stdout",
     "output_type": "stream",
     "text": [
      "Training Completed\n"
     ]
    }
   ],
   "source": [
    "all_preds = []\n",
    "best_model_path = f'/home/ptariya/deep-learning/results/models/best_model_effnetv2-v2.pth'\n",
    "\n",
    "for i in range(config['num_folds']):\n",
    "    dls = get_data(i)\n",
    "    model = create_model(config['model_name'], num_classes=len(dls.vocab))\n",
    "    augmentation_callback = get_augmentation_callback(config['augmentation_type'])\n",
    "    learn = Learner(\n",
    "        dls, model,\n",
    "        loss_func=weighted_loss,\n",
    "        metrics=[accuracy],\n",
    "        cbs=[SaveModelCallback(monitor='valid_loss', fname=f'best_model_fold_{i}')]\n",
    "    )\n",
    "    \n",
    "    if config['mixed_precision']:\n",
    "        learn = learn.to_fp16()\n",
    "    \n",
    "    learn.model = learn.model.to('cuda')\n",
    "    torch.cuda.empty_cache()\n",
    "    \n",
    "    learn.fit_one_cycle(config['fit_one_cycle_epochs'], lr_max=config['learning_rate'], cbs=[EarlyStoppingCallback(monitor='valid_loss')])\n",
    "    \n",
    "    torch.cuda.empty_cache()\n",
    "    \n",
    "    tst_dl = learn.dls.test_dl(tstpng)\n",
    "    preds, _ = learn.get_preds(dl=tst_dl)\n",
    "    all_preds.append(preds)\n",
    "    \n",
    "    torch.save(learn.model.state_dict(), best_model_path)\n",
    "    # Track the best model based on validation loss\n",
    "    # valid_loss = learn.recorder.values[-1][0] if learn.recorder.values and learn.recorder.values[-1][0] is not None else float('inf')\n",
    "\n",
    "    # if valid_loss < best_valid_loss:\n",
    "    #     best_valid_loss = valid_loss\n",
    "    #     torch.save(learn.model.state_dict(), best_model_path)\n",
    "    \n",
    "    del learn\n",
    "    torch.cuda.empty_cache()\n",
    "    gc.collect()\n",
    "    \n",
    "print('Training Completed')\n"
   ]
  },
  {
   "cell_type": "markdown",
   "metadata": {},
   "source": [
    "## Prediction and Submission"
   ]
  },
  {
   "cell_type": "code",
   "execution_count": 41,
   "metadata": {
    "execution": {
     "iopub.execute_input": "2024-10-16T16:37:31.835507Z",
     "iopub.status.busy": "2024-10-16T16:37:31.834481Z",
     "iopub.status.idle": "2024-10-16T16:37:31.856319Z",
     "shell.execute_reply": "2024-10-16T16:37:31.855341Z",
     "shell.execute_reply.started": "2024-10-16T16:37:31.835464Z"
    },
    "trusted": true
   },
   "outputs": [
    {
     "data": {
      "text/plain": [
       "tensor([[ -1.7103,  -3.4172,  10.3328,  -7.8496],\n",
       "        [  5.8091,  -7.1758,  -9.3270,  -3.5771],\n",
       "        [  9.1678,  -7.6119,  -5.5360,   1.0576],\n",
       "        ...,\n",
       "        [-13.3773,  -0.6750,  -5.5443,  13.3984],\n",
       "        [ 11.5891,  -1.2459,  -4.2338,  -2.1277],\n",
       "        [ -4.1428,  -2.8496,  -6.0539,   9.4563]])"
      ]
     },
     "execution_count": 41,
     "metadata": {},
     "output_type": "execute_result"
    }
   ],
   "source": [
    "sub = pd.read_csv(config['test_csv_path'])\n",
    "preds = np.mean(np.stack(all_preds), axis=0)\n",
    "preds = torch.from_numpy(preds)\n",
    "preds"
   ]
  },
  {
   "cell_type": "code",
   "execution_count": 42,
   "metadata": {
    "execution": {
     "iopub.execute_input": "2024-10-16T16:37:35.196219Z",
     "iopub.status.busy": "2024-10-16T16:37:35.195758Z",
     "iopub.status.idle": "2024-10-16T16:37:35.222934Z",
     "shell.execute_reply": "2024-10-16T16:37:35.222102Z",
     "shell.execute_reply.started": "2024-10-16T16:37:35.196177Z"
    },
    "trusted": true
   },
   "outputs": [
    {
     "data": {
      "text/html": [
       "<div>\n",
       "<style scoped>\n",
       "    .dataframe tbody tr th:only-of-type {\n",
       "        vertical-align: middle;\n",
       "    }\n",
       "\n",
       "    .dataframe tbody tr th {\n",
       "        vertical-align: top;\n",
       "    }\n",
       "\n",
       "    .dataframe thead th {\n",
       "        text-align: right;\n",
       "    }\n",
       "</style>\n",
       "<table border=\"1\" class=\"dataframe\">\n",
       "  <thead>\n",
       "    <tr style=\"text-align: right;\">\n",
       "      <th></th>\n",
       "      <th>image_path</th>\n",
       "      <th>label</th>\n",
       "      <th>predict</th>\n",
       "    </tr>\n",
       "  </thead>\n",
       "  <tbody>\n",
       "    <tr>\n",
       "      <th>0</th>\n",
       "      <td>/home/ptariya/deep-learning/data/HDPEM/HDPEM772.JPG</td>\n",
       "      <td>HDPEM</td>\n",
       "      <td>HDPEM</td>\n",
       "    </tr>\n",
       "    <tr>\n",
       "      <th>1</th>\n",
       "      <td>/home/ptariya/deep-learning/data/AluCan/AluCan733.jpg</td>\n",
       "      <td>AluCan</td>\n",
       "      <td>AluCan</td>\n",
       "    </tr>\n",
       "    <tr>\n",
       "      <th>2</th>\n",
       "      <td>/home/ptariya/deep-learning/data/AluCan/AluCan916.jpg</td>\n",
       "      <td>AluCan</td>\n",
       "      <td>AluCan</td>\n",
       "    </tr>\n",
       "    <tr>\n",
       "      <th>3</th>\n",
       "      <td>/home/ptariya/deep-learning/data/AluCan/AluCan505.jpg</td>\n",
       "      <td>AluCan</td>\n",
       "      <td>AluCan</td>\n",
       "    </tr>\n",
       "    <tr>\n",
       "      <th>4</th>\n",
       "      <td>/home/ptariya/deep-learning/data/HDPEM/HDPEM966.JPG</td>\n",
       "      <td>HDPEM</td>\n",
       "      <td>HDPEM</td>\n",
       "    </tr>\n",
       "    <tr>\n",
       "      <th>...</th>\n",
       "      <td>...</td>\n",
       "      <td>...</td>\n",
       "      <td>...</td>\n",
       "    </tr>\n",
       "    <tr>\n",
       "      <th>1506</th>\n",
       "      <td>/home/ptariya/deep-learning/data/HDPEM/HDPEM453.jpg</td>\n",
       "      <td>HDPEM</td>\n",
       "      <td>HDPEM</td>\n",
       "    </tr>\n",
       "    <tr>\n",
       "      <th>1507</th>\n",
       "      <td>/home/ptariya/deep-learning/data/PET/PET1,394.jpg</td>\n",
       "      <td>PET</td>\n",
       "      <td>PET</td>\n",
       "    </tr>\n",
       "    <tr>\n",
       "      <th>1508</th>\n",
       "      <td>/home/ptariya/deep-learning/data/PET/PET634.jpg</td>\n",
       "      <td>PET</td>\n",
       "      <td>PET</td>\n",
       "    </tr>\n",
       "    <tr>\n",
       "      <th>1509</th>\n",
       "      <td>/home/ptariya/deep-learning/data/AluCan/alucan_s1b_255.jpg</td>\n",
       "      <td>AluCan</td>\n",
       "      <td>AluCan</td>\n",
       "    </tr>\n",
       "    <tr>\n",
       "      <th>1510</th>\n",
       "      <td>/home/ptariya/deep-learning/data/PET/PET1,117.jpg</td>\n",
       "      <td>PET</td>\n",
       "      <td>PET</td>\n",
       "    </tr>\n",
       "  </tbody>\n",
       "</table>\n",
       "<p>1511 rows × 3 columns</p>\n",
       "</div>"
      ],
      "text/plain": [
       "                                                      image_path   label  \\\n",
       "0            /home/ptariya/deep-learning/data/HDPEM/HDPEM772.JPG   HDPEM   \n",
       "1          /home/ptariya/deep-learning/data/AluCan/AluCan733.jpg  AluCan   \n",
       "2          /home/ptariya/deep-learning/data/AluCan/AluCan916.jpg  AluCan   \n",
       "3          /home/ptariya/deep-learning/data/AluCan/AluCan505.jpg  AluCan   \n",
       "4            /home/ptariya/deep-learning/data/HDPEM/HDPEM966.JPG   HDPEM   \n",
       "...                                                          ...     ...   \n",
       "1506         /home/ptariya/deep-learning/data/HDPEM/HDPEM453.jpg   HDPEM   \n",
       "1507           /home/ptariya/deep-learning/data/PET/PET1,394.jpg     PET   \n",
       "1508             /home/ptariya/deep-learning/data/PET/PET634.jpg     PET   \n",
       "1509  /home/ptariya/deep-learning/data/AluCan/alucan_s1b_255.jpg  AluCan   \n",
       "1510           /home/ptariya/deep-learning/data/PET/PET1,117.jpg     PET   \n",
       "\n",
       "     predict  \n",
       "0      HDPEM  \n",
       "1     AluCan  \n",
       "2     AluCan  \n",
       "3     AluCan  \n",
       "4      HDPEM  \n",
       "...      ...  \n",
       "1506   HDPEM  \n",
       "1507     PET  \n",
       "1508     PET  \n",
       "1509  AluCan  \n",
       "1510     PET  \n",
       "\n",
       "[1511 rows x 3 columns]"
      ]
     },
     "execution_count": 42,
     "metadata": {},
     "output_type": "execute_result"
    }
   ],
   "source": [
    "idxs = preds.argmax(dim=1)\n",
    "confidences, _ = torch.max(preds, dim=1)\n",
    "vocab = np.array(dls.vocab)\n",
    "\n",
    "sub['predict'] = vocab[idxs]\n",
    "sub"
   ]
  },
  {
   "cell_type": "code",
   "execution_count": 43,
   "metadata": {
    "execution": {
     "iopub.execute_input": "2024-10-16T16:38:02.408590Z",
     "iopub.status.busy": "2024-10-16T16:38:02.408167Z",
     "iopub.status.idle": "2024-10-16T16:38:03.433313Z",
     "shell.execute_reply": "2024-10-16T16:38:03.432044Z",
     "shell.execute_reply.started": "2024-10-16T16:38:02.408549Z"
    },
    "trusted": true
   },
   "outputs": [
    {
     "name": "stdout",
     "output_type": "stream",
     "text": [
      "Total predictions: 1511\n",
      "Correct predictions: 1504\n",
      "Accuracy: 99.54%\n",
      "\n",
      "Classification Report:\n",
      "              precision    recall  f1-score   support\n",
      "\n",
      "      AluCan       0.99      1.00      0.99       375\n",
      "       Glass       0.99      0.99      0.99       376\n",
      "       HDPEM       1.00      1.00      1.00       383\n",
      "         PET       0.99      0.99      0.99       377\n",
      "\n",
      "    accuracy                           1.00      1511\n",
      "   macro avg       1.00      1.00      1.00      1511\n",
      "weighted avg       1.00      1.00      1.00      1511\n",
      "\n"
     ]
    },
    {
     "data": {
      "image/png": "[encoded data removed]",
      "text/plain": [
       "<Figure size 1000x800 with 2 Axes>"
      ]
     },
     "metadata": {},
     "output_type": "display_data"
    }
   ],
   "source": [
    "# Calculate total number of predictions\n",
    "total_predictions = len(sub)\n",
    "\n",
    "# Calculate number of correct predictions\n",
    "correct_predictions = (sub['label'] == sub['predict']).sum()\n",
    "\n",
    "# Calculate accuracy\n",
    "res_accuracy = correct_predictions / total_predictions\n",
    "\n",
    "# Generate a classification report\n",
    "from sklearn.metrics import classification_report\n",
    "report = classification_report(sub['label'], sub['predict'])\n",
    "\n",
    "# Print results\n",
    "print(f\"Total predictions: {total_predictions}\")\n",
    "print(f\"Correct predictions: {correct_predictions}\")\n",
    "print(f\"Accuracy: {res_accuracy:.2%}\")\n",
    "print(\"\\nClassification Report:\")\n",
    "print(report)\n",
    "\n",
    "# Optional: Generate confusion matrix\n",
    "from sklearn.metrics import confusion_matrix\n",
    "import seaborn as sns\n",
    "import matplotlib.pyplot as plt\n",
    "\n",
    "cm = confusion_matrix(sub['label'], sub['predict'])\n",
    "plt.figure(figsize=(10, 8))\n",
    "sns.heatmap(cm, annot=True, fmt='d', cmap='Blues')\n",
    "plt.xlabel('Predicted')\n",
    "plt.ylabel('Actual')\n",
    "plt.title('Confusion Matrix')\n",
    "plt.show()"
   ]
  },
  {
   "cell_type": "code",
   "execution_count": null,
   "metadata": {
    "execution": {
     "iopub.execute_input": "2024-10-16T16:41:28.170091Z",
     "iopub.status.busy": "2024-10-16T16:41:28.169015Z",
     "iopub.status.idle": "2024-10-16T16:41:28.187237Z",
     "shell.execute_reply": "2024-10-16T16:41:28.186081Z",
     "shell.execute_reply.started": "2024-10-16T16:41:28.170009Z"
    },
    "trusted": true
   },
   "outputs": [],
   "source": [
    "import torch\n",
    "from torchvision import transforms\n",
    "import time\n",
    "\n",
    "def create_model(num_classes):\n",
    "    model = timm.create_model(\"tf_efficientnetv2_s.in21k_ft_in1k\", pretrained=False, num_classes=num_classes)\n",
    "    return model\n",
    "\n",
    "def load_best_model(model_path, num_classes, device=\"cuda\" if torch.cuda.is_available() else \"cpu\"):\n",
    "    model = create_model(num_classes).to(device)\n",
    "    \n",
    "    state_dict = torch.load(model_path, map_location=device)  # Load with device mapping\n",
    "    \n",
    "    model.load_state_dict(state_dict)  # Ensure all keys match\n",
    "    model.eval()\n",
    "    \n",
    "    return model\n",
    "\n",
    "def predict(image_path, model_path, class_names):\n",
    "    device = \"cuda\" if torch.cuda.is_available() else \"cpu\"\n",
    "    model = load_best_model(model_path, len(class_names), device)\n",
    "    \n",
    "    transform = transforms.Compose([\n",
    "        transforms.Resize(380),  \n",
    "        transforms.CenterCrop(380),\n",
    "        transforms.ToTensor(),\n",
    "        transforms.Normalize([0.485, 0.456, 0.406], [0.229, 0.224, 0.225]),\n",
    "        transforms.Grayscale(num_output_channels=3)\n",
    "    ])\n",
    "    \n",
    "    img = Image.open(image_path).convert('RGB')\n",
    "    img_tensor = transform(img).unsqueeze(0).to(device)\n",
    "    \n",
    "    start_time = time.time()\n",
    "    \n",
    "    with torch.no_grad():\n",
    "        output = model(img_tensor)\n",
    "        probabilities = torch.nn.functional.softmax(output, dim=1)\n",
    "        predicted_class_index = probabilities.argmax().item()\n",
    "        predicted_class = class_names[predicted_class_index]\n",
    "    \n",
    "    end_time = time.time()\n",
    "    inference_time = end_time - start_time \n",
    "    print(f\"Inference time: {inference_time:.6f} seconds\")  \n",
    "    \n",
    "    return predicted_class, probabilities[0].tolist()\n",
    "\n",
    "def display_probabilities(class_names, probabilities):\n",
    "    # Sort probabilities in descending order\n",
    "    sorted_probs = sorted(zip(class_names, probabilities), key=lambda x: x[1], reverse=True)\n",
    "    \n",
    "    print(\"Class Probabilities:\")\n",
    "    print(\"-------------------\")\n",
    "    for class_name, prob in sorted_probs:\n",
    "        print(f\"{class_name:<15} : {prob:.4f} ({prob*100:.2f}%)\")"
   ]
  },
  {
   "cell_type": "code",
   "execution_count": 72,
   "metadata": {
    "execution": {
     "iopub.execute_input": "2024-10-16T16:41:30.984641Z",
     "iopub.status.busy": "2024-10-16T16:41:30.983626Z",
     "iopub.status.idle": "2024-10-16T16:41:32.667301Z",
     "shell.execute_reply": "2024-10-16T16:41:32.666056Z",
     "shell.execute_reply.started": "2024-10-16T16:41:30.984597Z"
    },
    "trusted": true
   },
   "outputs": [
    {
     "name": "stdout",
     "output_type": "stream",
     "text": [
      "Inference time: 0.014402 seconds\n",
      "Predicted class: AluCan\n",
      "\n",
      "Class Probabilities:\n",
      "-------------------\n",
      "AluCan          : 1.0000 (100.00%)\n",
      "Glass           : 0.0000 (0.00%)\n",
      "HDPEM           : 0.0000 (0.00%)\n",
      "PET             : 0.0000 (0.00%)\n"
     ]
    }
   ],
   "source": [
    "image_path = '/home/ptariya/deep-learning/coca-cola-drink-aluminium-can-3d-model-298126.webp'\n",
    "model_path = '/home/ptariya/deep-learning/results/models/best_model_effnetv2-v2.pth'\n",
    "class_names = ['AluCan', 'Glass', 'HDPEM', 'PET']\n",
    "\n",
    "device = torch.device('cuda' if torch.cuda.is_available() else 'cpu')\n",
    "\n",
    "predicted_class, probabilities = predict(image_path, model_path, class_names)\n",
    "print(f\"Predicted class: {predicted_class}\")\n",
    "print()\n",
    "display_probabilities(class_names, probabilities)"
   ]
  },
  {
   "cell_type": "code",
   "execution_count": 73,
   "metadata": {},
   "outputs": [
    {
     "name": "stdout",
     "output_type": "stream",
     "text": [
      "Inference time: 0.014314 seconds\n",
      "Predicted class: AluCan\n",
      "\n",
      "Class Probabilities:\n",
      "-------------------\n",
      "AluCan          : 0.9963 (99.63%)\n",
      "Glass           : 0.0036 (0.36%)\n",
      "HDPEM           : 0.0000 (0.00%)\n",
      "PET             : 0.0000 (0.00%)\n"
     ]
    }
   ],
   "source": [
    "image_path = '/home/ptariya/deep-learning/coca-cola-drink-aluminium-can-3d-model-298126.webp'\n",
    "model_path = '/home/ptariya/deep-learning/results/models/best_model_effnetv2.pth'\n",
    "class_names = ['AluCan', 'Glass', 'HDPEM', 'PET']\n",
    "\n",
    "device = torch.device('cuda' if torch.cuda.is_available() else 'cpu')\n",
    "\n",
    "predicted_class, probabilities = predict(image_path, model_path, class_names)\n",
    "print(f\"Predicted class: {predicted_class}\")\n",
    "print()\n",
    "display_probabilities(class_names, probabilities)"
   ]
  }
 ],
 "metadata": {
  "kaggle": {
   "accelerator": "nvidiaTeslaT4",
   "dataSources": [
    {
     "datasetId": 5870953,
     "sourceId": 9619580,
     "sourceType": "datasetVersion"
    },
    {
     "datasetId": 5871295,
     "sourceId": 9620010,
     "sourceType": "datasetVersion"
    },
    {
     "datasetId": 5888776,
     "sourceId": 9643064,
     "sourceType": "datasetVersion"
    }
   ],
   "dockerImageVersionId": 30787,
   "isGpuEnabled": true,
   "isInternetEnabled": true,
   "language": "python",
   "sourceType": "notebook"
  },
  "kernelspec": {
   "display_name": "Python 3 (ipykernel)",
   "language": "python",
   "name": "python3"
  },
  "language_info": {
   "codemirror_mode": {
    "name": "ipython",
    "version": 3
   },
   "file_extension": ".py",
   "mimetype": "text/x-python",
   "name": "python",
   "nbconvert_exporter": "python",
   "pygments_lexer": "ipython3",
   "version": "3.9.19"
  }
 },
 "nbformat": 4,
 "nbformat_minor": 4
}
